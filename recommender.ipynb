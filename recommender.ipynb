{
 "cells": [
  {
   "attachments": {},
   "cell_type": "markdown",
   "metadata": {},
   "source": [
    "# **1.Importing neccessary libraries**"
   ]
  },
  {
   "cell_type": "code",
   "execution_count": null,
   "metadata": {
    "tags": []
   },
   "outputs": [],
   "source": [
    "#importing neccessary libraries\n",
    "import pandas as pd"
   ]
  },
  {
   "attachments": {},
   "cell_type": "markdown",
   "metadata": {},
   "source": [
    "# **2.Reading csv file, taking user input and listing the description**"
   ]
  },
  {
   "cell_type": "code",
   "execution_count": null,
   "metadata": {},
   "outputs": [],
   "source": [
    "#reading csv file, taking user input and listing the tags\n",
    "df = pd.read_csv(\"final.csv\")\n",
    "def combined_features(row):\n",
    "    return str(row['Title'])+\" \"+str(row['Description'])+\" \"+str(row['Author'])\n",
    "df[\"combined_features\"] = df.apply(combined_features, axis =1)\n",
    "# desc_arr = list(df[\"Description\"])\n",
    "#print(desc_arr)\n",
    "s=input(\"Enter your book description : \")\n",
    "s=s.lower()\n",
    "#removing the unneccesary words\n",
    "s=s+' ' \n",
    "arr=['books','book','best','recommend','for','in','market','of','seller','by','buy','author','written','show','other','the','me','all','what','are','world','get','rating']\n",
    "x=\"\"\n",
    "y=\"\"\n",
    "for i in range(0,len(s)):\n",
    "    if(s[i]!=' '):\n",
    "        x=x+s[i]\n",
    "    else:\n",
    "        if(arr.count(x)==0):\n",
    "            y=y+x+' '\n",
    "        x=\"\"\n",
    "s=y\n",
    "df"
   ]
  },
  {
   "attachments": {},
   "cell_type": "markdown",
   "metadata": {},
   "source": [
    "# **3.Lisitng the details of the books**"
   ]
  },
  {
   "cell_type": "code",
   "execution_count": null,
   "metadata": {},
   "outputs": [],
   "source": [
    "#listing the name of the books\n",
    "title_arr=list(df[\"Title\"])\n",
    "price_arr=list(df[\"Price\"])\n",
    "rating_arr=list(df[\"Rating\"])\n",
    "author_arr=list(df[\"Author\"])\n",
    "comb_arr=list(df[\"combined_features\"])"
   ]
  },
  {
   "attachments": {},
   "cell_type": "markdown",
   "metadata": {},
   "source": [
    "# **4.Implementing the Jaccard similarity**"
   ]
  },
  {
   "cell_type": "code",
   "execution_count": null,
   "metadata": {},
   "outputs": [],
   "source": [
    "#implementing the Jaccard similarity\n",
    "def Jaccard_Similarity(doc1, doc2): \n",
    "    \n",
    "    # List the unique words in a document\n",
    "    words_doc1 = set(doc1.lower().split()) \n",
    "    words_doc2 = set(doc2.lower().split())\n",
    "    \n",
    "    # Find the intersection of words list of doc1 & doc2\n",
    "    intersection = words_doc1.intersection(words_doc2)\n",
    "\n",
    "    # Find the union of words list of doc1 & doc2\n",
    "    union = words_doc1.union(words_doc2)\n",
    "        \n",
    "    # Calculate Jaccard similarity score \n",
    "    # using length of intersection set divided by length of union set\n",
    "    return float(len(intersection)) / len(union)"
   ]
  },
  {
   "attachments": {},
   "cell_type": "markdown",
   "metadata": {},
   "source": [
    "# **5.Calling the Jaccard_Similarity for calculating the similarity**"
   ]
  },
  {
   "cell_type": "code",
   "execution_count": null,
   "metadata": {},
   "outputs": [],
   "source": [
    "#calling the Jaccard_Similarity for calculating the similarity\n",
    "similar=[]\n",
    "add=0 #variable to check whether atleast one recommendation is there or not\n",
    "for item in comb_arr:\n",
    "    similar.append(Jaccard_Similarity(item,s))\n",
    "    jc=Jaccard_Similarity(item,s)\n",
    "    add=add+jc"
   ]
  },
  {
   "attachments": {},
   "cell_type": "markdown",
   "metadata": {},
   "source": [
    "# **6.Storing the deatils of each book in an array**"
   ]
  },
  {
   "cell_type": "code",
   "execution_count": null,
   "metadata": {},
   "outputs": [],
   "source": [
    "#storing the deatils of each book in an array\n",
    "reco=[]\n",
    "for i in range(0,len(title_arr)):\n",
    "    #print(title_arr[i]+\"  \"+str(similar[i]))\n",
    "    pair=((similar[i],title_arr[i],price_arr[i],author_arr[i],rating_arr[i]))\n",
    "    reco.append(pair)"
   ]
  },
  {
   "attachments": {},
   "cell_type": "markdown",
   "metadata": {},
   "source": [
    "# **7.Printing the recommended books**"
   ]
  },
  {
   "cell_type": "code",
   "execution_count": null,
   "metadata": {},
   "outputs": [],
   "source": [
    "#printing the recommended books\n",
    "l=[]\n",
    "ans=[]\n",
    "reco.sort(reverse=True)\n",
    "count=0\n",
    "if add==0:\n",
    "    print(\"No relevant recommendation !!\")\n",
    "if add!=0:\n",
    "    print(\"Your search matched with the following books \")\n",
    "    for item in reco:\n",
    "        if(item[0]>0):\n",
    "            l=[]\n",
    "            l.append(item[1])\n",
    "            l.append(item[3])\n",
    "            l.append(item[2])\n",
    "            l.append(item[4])\n",
    "            ans.append(l)\n",
    "            \n",
    "ans.sort(key=lambda x:x[3],reverse=True)\n",
    "for item in ans:\n",
    "    for item1 in item:\n",
    "        print(item1,end=\" \")\n",
    "    print(end=\"\\n\")\n"
   ]
  }
 ],
 "metadata": {
  "kernelspec": {
   "display_name": "Python 3",
   "language": "python",
   "name": "python3"
  },
  "language_info": {
   "codemirror_mode": {
    "name": "ipython",
    "version": 3
   },
   "file_extension": ".py",
   "mimetype": "text/x-python",
   "name": "python",
   "nbconvert_exporter": "python",
   "pygments_lexer": "ipython3",
   "version": "3.10.6"
  },
  "orig_nbformat": 4
 },
 "nbformat": 4,
 "nbformat_minor": 2
}
